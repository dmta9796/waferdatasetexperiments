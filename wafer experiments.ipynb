{
 "cells": [
  {
   "cell_type": "markdown",
   "metadata": {},
   "source": [
    "first the file is a pickle type which means that it can be unpacked\n",
    "<br>\n",
    "The main goal i see is to find a representation that has convex clusters as that would be the limitation of attempting a clustering.\n",
    "\n",
    "<br>\n",
    "\n",
    "wafer defects Center, Donut, Edge-Loc, Edge-Ring, Loc, Random, Scratch, Near-full, none."
   ]
  },
  {
   "cell_type": "code",
   "execution_count": 1,
   "metadata": {},
   "outputs": [],
   "source": [
    "# import numpy, pandas, sklearn for k-means and pca\n",
    "\n",
    "\n",
    "import numpy as np\n",
    "import pandas as pd\n",
    "import sklearn\n",
    "import pickle\n",
    "import matplotlib.pyplot as plt\n",
    "import umap\n",
    "import cv2\n",
    "\n",
    "#from sklearn.datasets import load_digits"
   ]
  },
  {
   "cell_type": "code",
   "execution_count": 2,
   "metadata": {},
   "outputs": [],
   "source": [
    "\n",
    "# #debug test (seems like the shape of the data is wrong)\n",
    "# digits = load_digits()\n",
    "# print(digits.data,digits.data.shape)\n",
    "# model = umap.UMAP()\n",
    "# embedding = model.fit_transform(digits.data)\n",
    "\n",
    "# plt.scatter(embedding[:, 0], embedding[:, 1], c=digits.target, cmap='Spectral', s=5)\n",
    "# plt.gca().set_aspect('equal', 'datalim')\n",
    "# plt.colorbar(boundaries=np.arange(11)-0.5).set_ticks(np.arange(10))\n",
    "# plt.title('UMAP projection of the Digits dataset', fontsize=24);"
   ]
  },
  {
   "cell_type": "code",
   "execution_count": 3,
   "metadata": {},
   "outputs": [],
   "source": [
    "# import the data from pickle\n",
    "src = \"./data/LSWMD.pkl\"\n",
    "data=pd.read_pickle(src)\n",
    "\n",
    "\n",
    "# clean the label data as I would be using it for getting a subset\n",
    "def clean(x):\n",
    "    if(len(x) == 0):\n",
    "        return \"\"\n",
    "    else:\n",
    "        return x[0][0]\n",
    "\n",
    "def replacecolumn(column):\n",
    "    newcolumn = []\n",
    "    for entry in column:\n",
    "        if(len(entry)==0):\n",
    "            entry = \"\"\n",
    "        else:\n",
    "            entry = entry[0][0]\n",
    "        newcolumn.append(entry)\n",
    "    return newcolumn\n",
    "\n",
    "collabel = replacecolumn(data[\"trianTestLabel\"])\n",
    "colfailure\n",
    "\n",
    "data[\"trianTestLabel\"] = collabel"
   ]
  },
  {
   "cell_type": "markdown",
   "metadata": {},
   "source": [
    "first the simplest model would be to try to see if the data is linearly seperable. \n",
    "So the first thing to try is to see 2d projections of the data to see if they is some inherent clusters.\n",
    "<br>\n",
    "\n",
    "since the task is to find an unsupervised method to cluster even though the data seems to be supervised.\n",
    "The most naive way would be to try K-means or EM in order to cluster. Since the clustering requires a known number of clusters, the naive way was to use the number of clusters as failure types. \n",
    "<br>\n",
    "\n",
    "seems like the wafer map is an image so a CNN might be needed. that doesn't make sense as that is going the supervised learning route.\n",
    "\n",
    "what about segmentation of the wafer map?"
   ]
  },
  {
   "cell_type": "code",
   "execution_count": 4,
   "metadata": {},
   "outputs": [
    {
     "name": "stdout",
     "output_type": "stream",
     "text": [
      "Training\n",
      "Index(['waferMap', 'dieSize', 'lotName', 'waferIndex', 'trianTestLabel',\n",
      "       'failureType'],\n",
      "      dtype='object')\n"
     ]
    }
   ],
   "source": [
    "print(data[\"trianTestLabel\"][0])\n",
    "print(data.columns)"
   ]
  },
  {
   "cell_type": "code",
   "execution_count": 13,
   "metadata": {},
   "outputs": [
    {
     "name": "stdout",
     "output_type": "stream",
     "text": [
      "Test [['none']]\n"
     ]
    }
   ],
   "source": [
    "# debugging dataframe\n",
    "#for index, row in data.iterrows():\n",
    "   #print(index)\n",
    "print(data[\"trianTestLabel\"][800000],data[\"failureType\"][800000]) #[0],entry[2].shape,entry[5],entry[7],entry[9],entry[13])\n",
    "#    print(\"\\n\") "
   ]
  },
  {
   "cell_type": "markdown",
   "metadata": {},
   "source": [
    "the columns of the data are 'waferMap', 'dieSize', 'lotName', 'waferIndex', 'trianTestLabel',\n",
    "       'failureType'\n",
    "       \n",
    "size of the wafer is a consistant 2160 size and 45 by 48 shape. (wrong assumption!!!)\n",
    "\n",
    "need to fetch an example of each type of defect \n"
   ]
  },
  {
   "cell_type": "code",
   "execution_count": 6,
   "metadata": {},
   "outputs": [
    {
     "data": {
      "image/png": "[encoded data removed]",
      "text/plain": [
       "<Figure size 432x288 with 1 Axes>"
      ]
     },
     "metadata": {
      "needs_background": "light"
     },
     "output_type": "display_data"
    },
    {
     "name": "stdout",
     "output_type": "stream",
     "text": [
      "(53, 58) [['Edge-Loc']]\n"
     ]
    }
   ],
   "source": [
    "num = 38\n",
    "# 38(edge-loc),40(loc),44(center),46(none), 161(), 186(edge-ring)\n",
    "a = data[\"waferMap\"][num]\n",
    "b = data[\"failureType\"][num]\n",
    "plt.imshow(a, cmap='hot', interpolation='nearest')\n",
    "plt.show()\n",
    "print(a.shape,b)"
   ]
  },
  {
   "cell_type": "markdown",
   "metadata": {},
   "source": [
    "based on the cell it seems like a good wafer is all zeros\n",
    "\n",
    "edge-loc seems to be both \n",
    "\n",
    "\n",
    "it seems like the cluster space for some cases is not linear. Thus PCA wouldn't be a good represenation either as it depends on linear eigenvalues.\n",
    "<br>\n",
    "maybe they could be a meaningful cluster representation of using U-Map or tsne which are non-linear embeddings\n",
    "\n",
    "The noise might need to have a salt and pepper filter.\n",
    "<br>\n",
    "\n",
    "the wafers are of different sizes"
   ]
  },
  {
   "cell_type": "code",
   "execution_count": 7,
   "metadata": {},
   "outputs": [
    {
     "name": "stdout",
     "output_type": "stream",
     "text": [
      "(118595, 16, 16) (16, 16)\n"
     ]
    }
   ],
   "source": [
    "# resize wafermaps for uniformity (lets try 32 by 32)\n",
    "subdata = data[data['trianTestLabel'] == \"Test\"] #data cleaning of [[\"Training\"]]-> \"Training\" needed\n",
    "\n",
    "waferdata = subdata[\"waferMap\"]\n",
    "\n",
    "size = (16,16)\n",
    "newwaferdata = []\n",
    "for idx,wafer in enumerate(waferdata):\n",
    "    wafer = cv2.medianBlur(wafer, 3)\n",
    "    wafer = cv2.resize(wafer, dsize=size, interpolation=cv2.INTER_CUBIC)\n",
    "    #print(wafer.shape)\n",
    "    #wafer = np.array(wafer).reshape(size[0]*size[1])\n",
    "    newwaferdata.append(wafer)\n",
    "\n",
    "newwaferdata = np.array(newwaferdata)\n",
    "print(newwaferdata.shape,newwaferdata[0].shape)\n",
    "   "
   ]
  },
  {
   "cell_type": "code",
   "execution_count": 8,
   "metadata": {},
   "outputs": [
    {
     "data": {
      "image/png": "[encoded data removed]",
      "text/plain": [
       "<Figure size 432x288 with 1 Axes>"
      ]
     },
     "metadata": {
      "needs_background": "light"
     },
     "output_type": "display_data"
    },
    {
     "name": "stdout",
     "output_type": "stream",
     "text": [
      "(16, 16)\n"
     ]
    }
   ],
   "source": [
    "num = 186\n",
    "# 38(edge-loc),40(loc),44(center),46(none), 161(), 186(edge-ring), 811427(scratch), 811448(Edge-Ring)\n",
    "a = newwaferdata[num]\n",
    "b = data[\"failureType\"]\n",
    "plt.imshow(a, cmap='hot', interpolation='nearest')\n",
    "plt.show()\n",
    "print(a.shape)\n",
    "\n",
    "#the median filter removed the salt and pepper noise\n",
    "# edge ring seems to lose form under the 5 median filter"
   ]
  },
  {
   "cell_type": "code",
   "execution_count": 9,
   "metadata": {},
   "outputs": [
    {
     "name": "stdout",
     "output_type": "stream",
     "text": [
      "[[0 0 0 ... 0 0 0]\n",
      " [0 0 0 ... 0 0 0]\n",
      " [0 0 0 ... 0 0 0]\n",
      " ...\n",
      " [0 0 0 ... 0 0 0]\n",
      " [0 0 0 ... 0 0 0]\n",
      " [0 0 0 ... 0 0 0]] (118595, 256)\n"
     ]
    }
   ],
   "source": [
    "# umap\n",
    "length = newwaferdata.shape[0]\n",
    "#print(type(waferarr), waferarr[200].shape)\n",
    "#waferdata.shape = (length, -1) #np.array(waferdata).reshape((length,size[0]*size[1]))\n",
    "\n",
    "\n",
    "newwaferdata = newwaferdata.reshape((length,size[0]*size[1]))\n",
    "\n",
    "print(newwaferdata,newwaferdata.shape)\n",
    "#print(umap)\n",
    "model = umap.UMAP()\n",
    "umapdata = model.fit_transform(newwaferdata)\n",
    "#811456\n",
    "# try a subset, which means the test set would be useful to fetch the subset while having each type of wafer"
   ]
  },
  {
   "cell_type": "code",
   "execution_count": 11,
   "metadata": {},
   "outputs": [
    {
     "data": {
      "image/png": "[encoded data removed]",
      "text/plain": [
       "<Figure size 432x288 with 1 Axes>"
      ]
     },
     "metadata": {
      "needs_background": "light"
     },
     "output_type": "display_data"
    }
   ],
   "source": [
    "plt.scatter(umapdata[:,0], umapdata[:,1],c = ) #, c=newwaferdata)\n",
    "plt.title('UMAP embedding of random colours');\n",
    "\n",
    "#the clustering doesn't seem promising for finding data behavior"
   ]
  },
  {
   "cell_type": "code",
   "execution_count": null,
   "metadata": {},
   "outputs": [],
   "source": [
    "# k-means\n",
    "# because of the catagories, assume 9 clusters\n",
    "kmeans = KMeans(n_clusters=9, random_state=0)\n",
    "clusters = kmeans.fit_transform(umapdata)"
   ]
  },
  {
   "cell_type": "code",
   "execution_count": null,
   "metadata": {},
   "outputs": [],
   "source": [
    "#kmeans plotting\n"
   ]
  },
  {
   "cell_type": "markdown",
   "metadata": {},
   "source": [
    "sources used\n",
    "https://docs.python.org/3/library/pickle.html\n",
    "https://stackoverflow.com/questions/33127866/how-to-pickle-and-unpickle\n",
    "\n",
    "\n",
    "error with pickle\n",
    "https://stackoverflow.com/questions/37371451/importerror-no-module-named-pandas-indexes\n",
    "\n",
    "dacs for dataframe\n",
    "https://pandas.pydata.org/pandas-docs/stable/reference/api/pandas.DataFrame.html\n",
    "\n",
    "\n",
    "https://stackoverflow.com/questions/16476924/how-to-iterate-over-rows-in-a-dataframe-in-pandas\n",
    "\n",
    "\n",
    "the wafermap needs visualization of a heat map\n",
    "https://stackoverflow.com/questions/33282368/plotting-a-2d-heatmap-with-matplotlib\n",
    "\n",
    "check umap representation: https://umap-learn.readthedocs.io/en/latest/\n",
    "\n",
    "get the pandas dataframe row to numpy for umap to work https://pandas.pydata.org/docs/reference/api/pandas.DataFrame.to_numpy.html\n",
    "\n",
    "https://pandas.pydata.org/pandas-docs/stable/reference/api/pandas.Series.to_numpy.html\n",
    "https://numpy.org/doc/stable/reference/generated/numpy.reshape.html\n",
    "https://stackoverflow.com/questions/15943769/how-do-i-get-the-row-count-of-a-pandas-dataframe\n",
    "\n",
    "rescale wafermap\n",
    "https://stackoverflow.com/questions/48121916/numpy-resize-rescale-image\n",
    "\n",
    "https://stackoverflow.com/questions/9057379/correct-and-efficient-way-to-flatten-array-in-numpy-in-python\n",
    "\n",
    "\n",
    "fix shape issue\n",
    "https://stackoverflow.com/questions/48823400/pandas-series-to-2d-array\n",
    "https://towardsdatascience.com/get-into-shape-14637fe1cd32\n",
    "https://stackoverflow.com/questions/40824601/how-to-convert-a-series-of-arrays-into-a-single-matrix-in-pandas-numpy\n",
    "\n",
    "\n",
    "median filter\n",
    "https://medium.com/@florestony5454/median-filtering-with-python-and-opencv-2bce390be0d1 \n",
    "https://docs.opencv.org/master/d4/d13/tutorial_py_filtering.html\n",
    "\n",
    "\n",
    "sklearn k-means\n",
    "\n",
    "https://scikit-learn.org/stable/modules/generated/sklearn.cluster.KMeans.html\n",
    "https://scikit-learn.org/stable/auto_examples/cluster/plot_kmeans_digits.html#sphx-glr-auto-examples-cluster-plot-kmeans-digits-py\n",
    "\n",
    "dataframe fetch test subset\n",
    "https://stackoverflow.com/questions/36307609/how-can-i-select-data-from-a-table-with-specific-attribute-with-pandas \n",
    "\n",
    "dataframe reading bug (might need to use apply)\n",
    "https://www.kite.com/python/answers/how-to-modify-all-the-values-in-a-pandas-dataframe-column-in-python\n",
    "\n",
    "slowness in apply\n",
    "https://stackoverflow.com/questions/38697404/pandas-explanation-on-apply-function-being-slow\n",
    "https://ys-l.github.io/posts/2015/08/28/how-not-to-use-pandas-apply/\n",
    "\n",
    "\n",
    "AttributeError: 'NNDescent' object has no attribute 'neighbor_graph'\n",
    "https://github.com/lmcinnes/umap/issues/403 (seems like enviroment issues)\n",
    "<br>\n",
    "\n",
    "jupyter lab is the new thing.\n",
    "\n",
    "<br>\n",
    "fix package llvmlight https://github.com/NVIDIA/NeMo/issues/841\n"
   ]
  },
  {
   "cell_type": "code",
   "execution_count": null,
   "metadata": {},
   "outputs": [],
   "source": []
  }
 ],
 "metadata": {
  "kernelspec": {
   "display_name": "Python 3",
   "language": "python",
   "name": "python3"
  },
  "language_info": {
   "codemirror_mode": {
    "name": "ipython",
    "version": 3
   },
   "file_extension": ".py",
   "mimetype": "text/x-python",
   "name": "python",
   "nbconvert_exporter": "python",
   "pygments_lexer": "ipython3",
   "version": "3.7.3"
  }
 },
 "nbformat": 4,
 "nbformat_minor": 4
}
