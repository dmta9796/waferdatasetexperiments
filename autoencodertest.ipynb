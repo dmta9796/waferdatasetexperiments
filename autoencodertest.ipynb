{
 "cells": [
  {
   "cell_type": "code",
   "execution_count": 3,
   "metadata": {},
   "outputs": [],
   "source": [
    "# import numpy, pandas, sklearn for k-means and pca\n",
    "\n",
    "\n",
    "import numpy as np\n",
    "import pandas as pd\n",
    "import sklearn\n",
    "import pickle\n",
    "import matplotlib.pyplot as plt\n",
    "import umap\n",
    "import cv2\n",
    "\n",
    "import keras\n",
    "import collections\n",
    "\n",
    "from scipy import ndimage\n",
    "from sklearn.cluster import KMeans\n",
    "from sklearn.preprocessing import LabelEncoder\n",
    "#from sklearn.datasets import load_digits"
   ]
  },
  {
   "cell_type": "code",
   "execution_count": 4,
   "metadata": {},
   "outputs": [
    {
     "name": "stdout",
     "output_type": "stream",
     "text": [
      "(811457, 6)\n",
      "(172950, 6)\n"
     ]
    }
   ],
   "source": [
    "# import the data from pickle\n",
    "src = \"./data/LSWMD.pkl\"\n",
    "data=pd.read_pickle(src)\n",
    "\n",
    "\n",
    "# clean the label data as I would be using it for getting a subset\n",
    "def clean(x):\n",
    "    if(len(x) == 0):\n",
    "        return \"\"\n",
    "    else:\n",
    "        return x[0][0]\n",
    "\n",
    "def replacecolumn(column):\n",
    "    newcolumn = []\n",
    "    for entry in column:\n",
    "        if(len(entry)==0):\n",
    "            entry = \"\"\n",
    "        else:\n",
    "            entry = entry[0][0]\n",
    "        newcolumn.append(entry)\n",
    "    return newcolumn\n",
    "\n",
    "collabel = replacecolumn(data[\"trianTestLabel\"])\n",
    "colfailuretype = replacecolumn(data[\"failureType\"])\n",
    "\n",
    "data[\"trianTestLabel\"] = collabel\n",
    "data[\"failureType\"] = colfailuretype\n",
    "\n",
    "# clean unlabeled data\n",
    "print(data.shape)\n",
    "data = data[data[\"failureType\"] != \"\"]\n",
    "print(data.shape)"
   ]
  },
  {
   "cell_type": "code",
   "execution_count": 5,
   "metadata": {},
   "outputs": [
    {
     "name": "stdout",
     "output_type": "stream",
     "text": [
      "8\n",
      "(54355, 51, 51) (51, 51)\n"
     ]
    }
   ],
   "source": [
    "# use the training data as using the whole data set is costly and results in kernel crash.\n",
    "subdata = data[data['trianTestLabel'] == \"Training\"] #data cleaning of [[\"Training\"]]-> \"Training\" needed\n",
    "\n",
    "#check only defective ones as the defects are in one cluster\n",
    "#subdata = subdata[data['failureType'] != \"none\"] #data cleaning of [[\"Training\"]]-> \"Training\" needed\n",
    "\n",
    "# fetch the wafer map and failure type\n",
    "waferdata = subdata[\"waferMap\"]\n",
    "labelwaferdata = subdata[\"failureType\"]\n",
    "\n",
    "lb_make = LabelEncoder()\n",
    "labelwaferdata = lb_make.fit_transform(labelwaferdata)\n",
    "print(labelwaferdata[0])\n",
    "\n",
    "# the idea is to have all the circular defects be close to the normal by making any defect at the edge to be rotated to be at the bottom\n",
    "def rotationmax(wafer):\n",
    "    rotationlist = []\n",
    "    rotangle = 60 # having a degree of not 90 results in more empty space which can be resolved with \n",
    "    steps = 360//rotangle\n",
    "    for i in range(steps):\n",
    "        rotated = ndimage.rotate(wafer, rotangle*i, reshape=False)\n",
    "        rotationlist.append(rotated)\n",
    "    \n",
    "    \n",
    "    intensitylist = []\n",
    "    for image in rotationlist:\n",
    "        #3*(len(a)//4):len(a),:\n",
    "        intensitysum = sum(sum(image[1*(size[1]//2):size[1],:]))\n",
    "        intensitylist.append(intensitysum)\n",
    "    \n",
    "    idx = np.argmax(intensitylist)\n",
    "    \n",
    "    #print(len(rotationlist),idx,steps,intensitylist)\n",
    "\n",
    "    newwafer = rotationlist[idx]\n",
    "    \n",
    "    return newwafer\n",
    "    \n",
    "# resize the wafer maps to be uniform\n",
    "\n",
    "size = (51,51)\n",
    "thresh = 1.5\n",
    "\n",
    "newwaferdata = []\n",
    "for idx,wafer in enumerate(waferdata):\n",
    "    wafer = cv2.medianBlur(wafer, 5)\n",
    "    wafer = cv2.medianBlur(wafer, 3)\n",
    "    wafer = cv2.resize(wafer, dsize=size, interpolation=cv2.INTER_CUBIC)\n",
    "\n",
    "    #wafer = cv2.medianBlur(wafer, 3)\n",
    "    #wafer = rotationmax(wafer)\n",
    "    wafer = cv2.threshold(wafer, thresh, 255, cv2.THRESH_BINARY)[1]    \n",
    "    #print(wafer.shape)\n",
    "    #wafer = np.array(wafer).reshape(size[0]*size[1])\n",
    "    newwaferdata.append(wafer)\n",
    "\n",
    "newwaferdata = np.array(newwaferdata)\n",
    "print(newwaferdata.shape,newwaferdata[0].shape)\n",
    "   \n",
    "# rotations need to happen to every image as the label data isn't known."
   ]
  },
  {
   "cell_type": "code",
   "execution_count": 23,
   "metadata": {},
   "outputs": [
    {
     "name": "stdout",
     "output_type": "stream",
     "text": [
      "(2601,)\n",
      "<keras.engine.training.Model object at 0x7f1367376438>\n"
     ]
    }
   ],
   "source": [
    "# the difference here is that instead of just having a flat vector, try using an autoencoder\n",
    "from keras import layers\n",
    "\n",
    "length = newwaferdata.shape[0]\n",
    "\n",
    "\n",
    "flatnewwaferdata = newwaferdata.reshape((length,size[0]*size[1]))\n",
    "inputshape = flatnewwaferdata[0].shape\n",
    "print(inputshape)\n",
    "\n",
    "encoding_dim = 32\n",
    "input_img = keras.Input(shape=inputshape)\n",
    "encoded = layers.Dense(encoding_dim, activation='relu')(input_img)\n",
    "# \"decoded\" is the lossy reconstruction of the input\n",
    "decoded = layers.Dense(inputshape[0], activation='sigmoid')(encoded)\n",
    "\n",
    "# This model maps an input to its reconstruction\n",
    "autoencoder = keras.Model(input_img, decoded)\n",
    "\n",
    "\n",
    "# encoder and decoder\n",
    "encoder = keras.Model(input_img, encoded)\n",
    "\n",
    "encoded_input = keras.Input(shape=(encoding_dim,))\n",
    "# Retrieve the last layer of the autoencoder model\n",
    "decoder_layer = autoencoder.layers[-1]\n",
    "# Create the decoder model\n",
    "decoder = keras.Model(encoded_input, decoder_layer(encoded_input))\n",
    "\n",
    "# compile\n",
    "autoencoder.compile(optimizer='adam', loss='binary_crossentropy')\n",
    "\n",
    "print(autoencoder)"
   ]
  },
  {
   "cell_type": "code",
   "execution_count": null,
   "metadata": {},
   "outputs": [
    {
     "name": "stdout",
     "output_type": "stream",
     "text": [
      "Train on 54355 samples, validate on 54355 samples\n",
      "Epoch 1/50\n",
      "54355/54355 [==============================] - 7s 123us/step - loss: -410041.6172 - val_loss: -1391904.4536\n",
      "Epoch 2/50\n",
      "54355/54355 [==============================] - 6s 118us/step - loss: -3548488.4436 - val_loss: -6310831.6805\n",
      "Epoch 3/50\n",
      "54355/54355 [==============================] - 6s 116us/step - loss: -10133375.9245 - val_loss: -14499324.4957\n",
      "Epoch 4/50\n",
      "54272/54355 [============================>.] - ETA: 0s - loss: -19856037.6981"
     ]
    }
   ],
   "source": [
    "autoencoder.fit(flatnewwaferdata, flatnewwaferdata,\n",
    "                epochs=50,\n",
    "                batch_size=256,\n",
    "                shuffle=True,\n",
    "                validation_data=(flatnewwaferdata, flatnewwaferdata))\n"
   ]
  },
  {
   "cell_type": "code",
   "execution_count": null,
   "metadata": {},
   "outputs": [],
   "source": []
  },
  {
   "cell_type": "code",
   "execution_count": null,
   "metadata": {},
   "outputs": [],
   "source": []
  },
  {
   "cell_type": "code",
   "execution_count": null,
   "metadata": {},
   "outputs": [],
   "source": []
  }
 ],
 "metadata": {
  "kernelspec": {
   "display_name": "Python 3",
   "language": "python",
   "name": "python3"
  },
  "language_info": {
   "codemirror_mode": {
    "name": "ipython",
    "version": 3
   },
   "file_extension": ".py",
   "mimetype": "text/x-python",
   "name": "python",
   "nbconvert_exporter": "python",
   "pygments_lexer": "ipython3",
   "version": "3.7.3"
  }
 },
 "nbformat": 4,
 "nbformat_minor": 4
}
